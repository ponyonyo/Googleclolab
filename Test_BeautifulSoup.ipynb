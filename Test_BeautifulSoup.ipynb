{
  "nbformat": 4,
  "nbformat_minor": 0,
  "metadata": {
    "colab": {
      "provenance": [],
      "authorship_tag": "ABX9TyMLYvhNA1Ad/3JsDhkAQoH/",
      "include_colab_link": true
    },
    "kernelspec": {
      "name": "python3",
      "display_name": "Python 3"
    }
  },
  "cells": [
    {
      "cell_type": "markdown",
      "metadata": {
        "id": "view-in-github",
        "colab_type": "text"
      },
      "source": [
        "<a href=\"https://colab.research.google.com/github/ponyonyo/Googlecolab/blob/main/Test_BeautifulSoup.ipynb\" target=\"_parent\"><img src=\"https://colab.research.google.com/assets/colab-badge.svg\" alt=\"Open In Colab\"/></a>"
      ]
    },
    {
      "cell_type": "code",
      "metadata": {
        "id": "toOi6M5Q68g1"
      },
      "source": [
        "from google.colab import auth\n",
        "import requests\n",
        "import json\n",
        "from bs4 import BeautifulSoup\n",
        "\n",
        "url = \"https://www.the-royalpark.jp/the/tokyoshiodome/news/\"\n",
        "reqResult = requests.get(url)\n",
        "soup = BeautifulSoup(reqResult.content, \"html.parser\")\n",
        "print(soup.find(\"h4\").text)\n"
      ],
      "execution_count": null,
      "outputs": []
    },
    {
      "cell_type": "code",
      "metadata": {
        "id": "LzpW7d6yOA6e"
      },
      "source": [
        "from google.colab import auth\n",
        "import requests\n",
        "import json\n",
        "from bs4 import BeautifulSoup\n",
        "\n",
        "url = \"https://www.the-royalpark.jp/the/tokyoshiodome/news/\"\n",
        "reqResult = requests.get(url)\n",
        "soup = BeautifulSoup(reqResult.content, \"html.parser\")\n",
        "print(soup.find_all(\"div\", class_=\"box_txt\"))\n"
      ],
      "execution_count": null,
      "outputs": []
    },
    {
      "cell_type": "code",
      "metadata": {
        "id": "J9ixLXShIvVj"
      },
      "source": [
        "from google.colab import auth\n",
        "import requests\n",
        "import json\n",
        "from bs4 import BeautifulSoup\n",
        "\n",
        "url = \"https://bg-mania.jp/article/sale/\"\n",
        "reqResult = requests.get(url)\n",
        "soup = BeautifulSoup(reqResult.content, \"html.parser\")\n",
        "print(soup.find_all(\"div\", class_=\"row entry-list article-type-tile\"))\n"
      ],
      "execution_count": null,
      "outputs": []
    },
    {
      "cell_type": "code",
      "metadata": {
        "id": "5RgVNCoZKM_p",
        "colab": {
          "base_uri": "https://localhost:8080/"
        },
        "outputId": "79676394-6993-4c10-9db3-108c86b7c2c4"
      },
      "source": [
        "from google.colab import auth\n",
        "import requests\n",
        "import json\n",
        "from bs4 import BeautifulSoup\n",
        "\n",
        "url = \"https://bg-mania.jp/article/sale/\"\n",
        "reqResult = requests.get(url)\n",
        "soup = BeautifulSoup(reqResult.content, \"html.parser\")\n",
        "contents = soup.find_all(\"h3\", class_=\"entry-title\")\n",
        "for content in contents:\n",
        "  print(content.text)\n"
      ],
      "execution_count": null,
      "outputs": [
        {
          "output_type": "stream",
          "text": [
            "【イオン】パンダ柄エコバッグ欲しい！ブラックフライデーのプレゼント企画は要チェック。\n",
            "毎月22日はテイクアウトピザ半額！！シェーキーズ行くしか。\n",
            "【ジョナサン】テイクアウト限定「モッツァレラのマルゲリータ」が今だけ半額399円！\n",
            "おにぎり・寿司が1個無料！セブンで「モンスター」買うとお得だよ～\n",
            "WEGO店舗とオンラインで「ブラックフライデー」！お手頃価格商品を大放出中\n",
            "楽天市場の「DEAN＆DELUCA」でブラックフライデー！ポイントバックなどでお得に買えるよ\n",
            "カルディが11日間の「ブラックフライデー」！人気商品がお得に買えるよ。\n",
            "【ブラックフライデー】ロフトが最大50％オフの値下げ！お得な企画満載だよ～。\n",
            "G-SHOCKの全モデルが対象！八村塁選手のサイン入りグッズもらえるよ～。\n",
            "【ブラックフライデー】メゾン・ド・サブレは最大40％オフ！全商品がセール対象\n",
            "「GUセール」第2弾で買うべきアイテム3つ！人気商品、お得になってる～。\n",
            "【ブラックフライデー】サンワダイレクトは最大50％オフセール！掘り出し物探そう。\n",
            "【ブラックフライデー】ロッテリアは「90円」祭り！10日間お得に食べまくろう。\n",
            "【待ってた】Qoo10の20％メガ割、開催中！最大9万円分のお得だよ。\n",
            "はなまるうどんに感謝。お持ち帰り「天ぷら」がすべて100円！\n",
            "【セブン】Aぇ！groupのB5ノートがもらえる！3種コンプしたい可愛さ。\n",
            "【ブラックフライデー】ドンキは20日～29日！福袋、日替わり商品は期待大。\n",
            "【まじか】食べた分だけ「餃子」もらえる。いいから大阪王将に急げ！\n",
            "【スタバ】明日限定！画面提示で50円分の有料カスタムが無料になるよ～\n",
            "イオンブラックフライデーは洗えるマスクが安い！10日間だけ3枚入り596円に\n",
            "100円プラスで肉の量を1.5倍に！サブウェイで10日間限定の「ブラックフライデー」\n",
            "洋服の青山が「ブラックフライデー」！大幅値下げ商品や福袋もあるよ～。\n",
            "ユニクロ「感謝祭」で買うべき優秀アイテム3つ。SNSで人気の商品も1000円オフ！\n",
            "ららぽーとでも「BLACK FRIDAY」！とっておきアイテムもゲットしよ。\n",
            "【プレゼント】牛乳に溶かすだけ！　親子で一緒に楽しめる子ども向けスティック「ブレンディとけた！」2種セット（6名様）\n",
            "ユニクロ「感謝祭」で買うべき優秀アイテム3つ。SNSで人気の商品も1000円オフ！\n",
            "【イオン】半額商品は見逃せない！「ブラックフライデー」注目商品5つ\n",
            "カルディが11日間の「ブラックフライデー」！人気商品がお得に買えるよ。\n",
            "【ブラックフライデー】ロフトが最大50％オフの値下げ！お得な企画満載だよ～。\n",
            "「GUセール」第2弾で買うべきアイテム3つ！人気商品、お得になってる～。\n",
            "【ブラックフライデー】最大900円のお得＆食べ放題も！イオンの銀だこへ急げ！\n",
            "イオンブラックフライデーは洗えるマスクが安い！10日間だけ3枚入り596円に\n",
            "楽天市場の「DEAN＆DELUCA」でブラックフライデー！ポイントバックなどでお得に買えるよ\n",
            "【ブラックフライデー】ドンキは20日～29日！福袋、日替わり商品は期待大。\n",
            "ユニクロ「感謝祭」始まるよ～！スペシャル価格満載、マスクプレゼントも。\n",
            "年末前のBIGセール「ブラックフライデー」と「サイバーマンデー」。今年の狙い目は？\n",
            "かに座の「自己肯定感」の高め方。心が軽くなるヒント\n",
            "昭和初期の元銭湯が令和のカフェに映え リノベーション【辛酸なめ子の東京アラカルト#44】\n",
            "毎月22日はテイクアウトピザ半額！！シェーキーズ行くしか。\n",
            "全品10％オフ！セブンでおでんセール始まったよ～。\n",
            "ガッツリ食べたい平日夜はビッグボーイへ。ハイコスパな990円セット新登場！\n",
            "J-CASTニュース\n",
            "Jタウンネット\n",
            "トイダス\n",
            "J-CASTチャンネル\n"
          ],
          "name": "stdout"
        }
      ]
    }
  ]
}