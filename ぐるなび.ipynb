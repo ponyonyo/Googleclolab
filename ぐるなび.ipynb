{
  "nbformat": 4,
  "nbformat_minor": 0,
  "metadata": {
    "colab": {
      "provenance": [],
      "authorship_tag": "ABX9TyN/J86w5IQVYigzIJ4woExz",
      "include_colab_link": true
    },
    "kernelspec": {
      "name": "python3",
      "display_name": "Python 3"
    }
  },
  "cells": [
    {
      "cell_type": "markdown",
      "metadata": {
        "id": "view-in-github",
        "colab_type": "text"
      },
      "source": [
        "<a href=\"https://colab.research.google.com/github/ponyonyo/Googlecolab/blob/main/%E3%81%90%E3%82%8B%E3%81%AA%E3%81%B3.ipynb\" target=\"_parent\"><img src=\"https://colab.research.google.com/assets/colab-badge.svg\" alt=\"Open In Colab\"/></a>"
      ]
    },
    {
      "cell_type": "code",
      "metadata": {
        "id": "LwO6O3Tj9mIX",
        "outputId": "8a78451d-3bfd-4aa7-ecf4-f1ac63e6a388",
        "colab": {
          "base_uri": "https://localhost:8080/",
          "height": 105
        }
      },
      "source": [
        "from google.colab import auth\n",
        "from oauth2client.client import GoogleCredentials\n",
        "import gspread\n",
        "import requests\n",
        "import json\n",
        "import pprint\n",
        "\n",
        "auth.authenticate_user()\n",
        "gc = gspread.authorize(GoogleCredentials.get_application_default())\n",
        "\n",
        "spread_sheet_URL = \"https://docs.google.com/spreadsheets/d/1ZhrjXdaFw_cFbtzrkqVbLU6WCwlQVp7WBYmYAQfu7Cs/edit#gid=0\"\n",
        "#ぐるなび_レストラン検索API\n",
        "#print(spread_sheet_URL)\n",
        "\n",
        "workbook = gc.open_by_url(spread_sheet_URL)\n",
        "worksheet = workbook.worksheet(\"シート1\")\n",
        "shop_name = worksheet.acell(\"A409\").value\n",
        "print(shop_name)\n",
        "\n",
        "access_key = \"65530d1d19f140c882a373023b06883c\"\n",
        "url = \"https://api.gnavi.co.jp/RestSearchAPI/v3/\"\n",
        "payload = {\"keyid\":access_key, \"name\":shop_name, \"pref\":\"PREF13\"}\n",
        "\n",
        "shopresult = requests.get(url, params=payload)\n",
        "#print(shopresult.json())\n",
        "#print(type(shopresult))\n",
        "\n",
        "try:\n",
        " pprint.pprint(shopresult.json()[\"error\"][0][\"code\"])\n",
        "\n",
        "except:\n",
        " pprint.pprint(shopresult.json()[\"rest\"][0][\"e_money\"])\n",
        "\n",
        "\n",
        "cell_list = worksheet.range(\"A409:A411\")\n",
        "for cell in cell_list:\n",
        "  print(cell.value)\n",
        "\n",
        "#worksheet.update_acell\n"
      ],
      "execution_count": null,
      "outputs": [
        {
          "output_type": "stream",
          "text": [
            "石臼挽きうどん しゅはり\n",
            "'LINE Pay,Alipay,PayPay'\n",
            "石臼挽きうどん しゅはり\n",
            "BunnyLash錦糸町店\n",
            "RiRe share salon\n"
          ],
          "name": "stdout"
        }
      ]
    },
    {
      "cell_type": "code",
      "metadata": {
        "id": "P7QBuVO9UC8Q",
        "outputId": "6f6459f8-be51-4957-9047-19fe865647c7",
        "colab": {
          "base_uri": "https://localhost:8080/",
          "height": 123
        }
      },
      "source": [
        "from google.colab import auth\n",
        "from oauth2client.client import GoogleCredentials\n",
        "import gspread\n",
        "import requests\n",
        "import json\n",
        "import pprint\n",
        "\n",
        "auth.authenticate_user()\n",
        "gc = gspread.authorize(GoogleCredentials.get_application_default())\n",
        "\n",
        "\n",
        "cell_list = worksheet.range(\"A409:A411\")\n",
        "for cell in cell_list:\n",
        "  print(cell.value)\n",
        "  shop_row = print(cell.row)\n",
        "  worksheet.update_cell(cell.row, 5, \"OK\")\n"
      ],
      "execution_count": null,
      "outputs": [
        {
          "output_type": "stream",
          "text": [
            "石臼挽きうどん しゅはり\n",
            "409\n",
            "BunnyLash錦糸町店\n",
            "410\n",
            "RiRe share salon\n",
            "411\n"
          ],
          "name": "stdout"
        }
      ]
    },
    {
      "cell_type": "code",
      "metadata": {
        "id": "9wY9flf1VfHW"
      },
      "source": [
        "from google.colab import auth\n",
        "from oauth2client.client import GoogleCredentials\n",
        "import gspread\n",
        "import requests\n",
        "import json\n",
        "import pprint\n",
        "\n",
        "auth.authenticate_user()\n",
        "gc = gspread.authorize(GoogleCredentials.get_application_default())\n",
        "\n",
        "cell_list = worksheet.range(\"A9:A1578\")\n",
        "for cell in cell_list:\n",
        "  spread_sheet_URL = \"https://docs.google.com/spreadsheets/d/1ZhrjXdaFw_cFbtzrkqVbLU6WCwlQVp7WBYmYAQfu7Cs/edit#gid=0\"\n",
        "  #ぐるなび_レストラン検索API\n",
        "  #print(spread_sheet_URL)\n",
        "  workbook = gc.open_by_url(spread_sheet_URL)\n",
        "  worksheet = workbook.worksheet(\"シート1\")\n",
        "  shop_name = cell.value\n",
        "  #print(shop_name)\n",
        "  access_key = \"65530d1d19f140c882a373023b06883c\"\n",
        "  url = \"https://api.gnavi.co.jp/RestSearchAPI/v3/\"\n",
        "  payload = {\"keyid\":access_key, \"name\":shop_name, \"pref\":\"PREF13\"}\n",
        "  shopresult = requests.get(url, params=payload)\n",
        "  #print(shopresult.json())\n",
        "  #print(type(shopresult))\n",
        "\n",
        "  try:\n",
        "   pprint.pprint(shopresult.json()[\"error\"][0][\"code\"])\n",
        "  except:\n",
        "   pprint.pprint(shopresult.json()[\"rest\"][0][\"e_money\"])\n",
        "   e_money = shopresult.json()[\"rest\"][0][\"e_money\"]\n",
        "   worksheet.update_cell(cell.row, 5, e_money)\n"
      ],
      "execution_count": null,
      "outputs": []
    }
  ]
}