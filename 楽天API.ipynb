{
  "nbformat": 4,
  "nbformat_minor": 0,
  "metadata": {
    "colab": {
      "provenance": [],
      "authorship_tag": "ABX9TyNpnySmBKfOAeLTv7YtXkxQ",
      "include_colab_link": true
    },
    "kernelspec": {
      "name": "python3",
      "display_name": "Python 3"
    }
  },
  "cells": [
    {
      "cell_type": "markdown",
      "metadata": {
        "id": "view-in-github",
        "colab_type": "text"
      },
      "source": [
        "<a href=\"https://colab.research.google.com/github/ponyonyo/Googlecolab/blob/main/%E6%A5%BD%E5%A4%A9API.ipynb\" target=\"_parent\"><img src=\"https://colab.research.google.com/assets/colab-badge.svg\" alt=\"Open In Colab\"/></a>"
      ]
    },
    {
      "cell_type": "code",
      "metadata": {
        "id": "n5GVCe2xrXEL",
        "outputId": "0d6aa1f5-dec3-4ae8-fbf0-09c8b7963b5d",
        "colab": {
          "base_uri": "https://localhost:8080/"
        }
      },
      "source": [
        "#楽天トラベルキーワード検索API (version:2017-04-26)\n",
        "from google.colab import auth\n",
        "from oauth2client.client import GoogleCredentials\n",
        "import gspread\n",
        "import requests\n",
        "import json\n",
        "import pprint\n",
        "\n",
        "url = \"https://app.rakuten.co.jp/services/api/Travel/KeywordHotelSearch/20170426?format=json&keyword=%E4%BA%94%E6%84%9F%E3%81%AB%E3%81%94%E3%81%A1%E3%81%9D%E3%81%86&responseType=small&applicationId=6eb7032ec98b23222c6bc80faa368722\"\n",
        "#payload = {\"keyid\":access_key, \"name\":shop_name, \"pref\":\"PREF13\"}\n",
        "\n",
        "shopresult = requests.get(url)\n",
        "#print(shopresult.json())\n",
        "#print(type(shopresult))\n",
        "\n",
        "# pprint.pprint(shopresult.json()[\"error\"][0][\"code\"])\n",
        "pprint.pprint(shopresult.json())\n",
        "\n"
      ],
      "execution_count": null,
      "outputs": [
        {
          "output_type": "stream",
          "text": [
            "{'error': 'wrong_parameter', 'error_description': 'specify valid applicationId'}\n"
          ],
          "name": "stdout"
        }
      ]
    }
  ]
}